{
 "cells": [
  {
   "cell_type": "code",
   "execution_count": 1,
   "id": "a2376072",
   "metadata": {},
   "outputs": [],
   "source": [
    "import numpy as np\n",
    "import pandas  as pd\n",
    "import matplotlib.pyplot as plt\n",
    "from scipy.stats import norm\n",
    "from scipy.stats import binom\n",
    "import math\n",
    "import seaborn as sns"
   ]
  },
  {
   "cell_type": "code",
   "execution_count": 2,
   "id": "0a149353",
   "metadata": {},
   "outputs": [],
   "source": [
    "data=pd.read_csv(r\"C:/Users/shiva/OneDrive/Desktop/walmart_data.csv\")"
   ]
  },
  {
   "cell_type": "code",
   "execution_count": 3,
   "id": "377c25dd",
   "metadata": {},
   "outputs": [
    {
     "data": {
      "text/html": [
       "<div>\n",
       "<style scoped>\n",
       "    .dataframe tbody tr th:only-of-type {\n",
       "        vertical-align: middle;\n",
       "    }\n",
       "\n",
       "    .dataframe tbody tr th {\n",
       "        vertical-align: top;\n",
       "    }\n",
       "\n",
       "    .dataframe thead th {\n",
       "        text-align: right;\n",
       "    }\n",
       "</style>\n",
       "<table border=\"1\" class=\"dataframe\">\n",
       "  <thead>\n",
       "    <tr style=\"text-align: right;\">\n",
       "      <th></th>\n",
       "      <th>User_ID</th>\n",
       "      <th>Product_ID</th>\n",
       "      <th>Gender</th>\n",
       "      <th>Age</th>\n",
       "      <th>Occupation</th>\n",
       "      <th>City_Category</th>\n",
       "      <th>Stay_In_Current_City_Years</th>\n",
       "      <th>Marital_Status</th>\n",
       "      <th>Product_Category</th>\n",
       "      <th>Purchase</th>\n",
       "    </tr>\n",
       "  </thead>\n",
       "  <tbody>\n",
       "    <tr>\n",
       "      <th>0</th>\n",
       "      <td>1000001</td>\n",
       "      <td>P00069042</td>\n",
       "      <td>F</td>\n",
       "      <td>0-17</td>\n",
       "      <td>10</td>\n",
       "      <td>A</td>\n",
       "      <td>2</td>\n",
       "      <td>0</td>\n",
       "      <td>3</td>\n",
       "      <td>8370</td>\n",
       "    </tr>\n",
       "    <tr>\n",
       "      <th>1</th>\n",
       "      <td>1000001</td>\n",
       "      <td>P00248942</td>\n",
       "      <td>F</td>\n",
       "      <td>0-17</td>\n",
       "      <td>10</td>\n",
       "      <td>A</td>\n",
       "      <td>2</td>\n",
       "      <td>0</td>\n",
       "      <td>1</td>\n",
       "      <td>15200</td>\n",
       "    </tr>\n",
       "    <tr>\n",
       "      <th>2</th>\n",
       "      <td>1000001</td>\n",
       "      <td>P00087842</td>\n",
       "      <td>F</td>\n",
       "      <td>0-17</td>\n",
       "      <td>10</td>\n",
       "      <td>A</td>\n",
       "      <td>2</td>\n",
       "      <td>0</td>\n",
       "      <td>12</td>\n",
       "      <td>1422</td>\n",
       "    </tr>\n",
       "    <tr>\n",
       "      <th>3</th>\n",
       "      <td>1000001</td>\n",
       "      <td>P00085442</td>\n",
       "      <td>F</td>\n",
       "      <td>0-17</td>\n",
       "      <td>10</td>\n",
       "      <td>A</td>\n",
       "      <td>2</td>\n",
       "      <td>0</td>\n",
       "      <td>12</td>\n",
       "      <td>1057</td>\n",
       "    </tr>\n",
       "    <tr>\n",
       "      <th>4</th>\n",
       "      <td>1000002</td>\n",
       "      <td>P00285442</td>\n",
       "      <td>M</td>\n",
       "      <td>55+</td>\n",
       "      <td>16</td>\n",
       "      <td>C</td>\n",
       "      <td>4+</td>\n",
       "      <td>0</td>\n",
       "      <td>8</td>\n",
       "      <td>7969</td>\n",
       "    </tr>\n",
       "    <tr>\n",
       "      <th>...</th>\n",
       "      <td>...</td>\n",
       "      <td>...</td>\n",
       "      <td>...</td>\n",
       "      <td>...</td>\n",
       "      <td>...</td>\n",
       "      <td>...</td>\n",
       "      <td>...</td>\n",
       "      <td>...</td>\n",
       "      <td>...</td>\n",
       "      <td>...</td>\n",
       "    </tr>\n",
       "    <tr>\n",
       "      <th>550063</th>\n",
       "      <td>1006033</td>\n",
       "      <td>P00372445</td>\n",
       "      <td>M</td>\n",
       "      <td>51-55</td>\n",
       "      <td>13</td>\n",
       "      <td>B</td>\n",
       "      <td>1</td>\n",
       "      <td>1</td>\n",
       "      <td>20</td>\n",
       "      <td>368</td>\n",
       "    </tr>\n",
       "    <tr>\n",
       "      <th>550064</th>\n",
       "      <td>1006035</td>\n",
       "      <td>P00375436</td>\n",
       "      <td>F</td>\n",
       "      <td>26-35</td>\n",
       "      <td>1</td>\n",
       "      <td>C</td>\n",
       "      <td>3</td>\n",
       "      <td>0</td>\n",
       "      <td>20</td>\n",
       "      <td>371</td>\n",
       "    </tr>\n",
       "    <tr>\n",
       "      <th>550065</th>\n",
       "      <td>1006036</td>\n",
       "      <td>P00375436</td>\n",
       "      <td>F</td>\n",
       "      <td>26-35</td>\n",
       "      <td>15</td>\n",
       "      <td>B</td>\n",
       "      <td>4+</td>\n",
       "      <td>1</td>\n",
       "      <td>20</td>\n",
       "      <td>137</td>\n",
       "    </tr>\n",
       "    <tr>\n",
       "      <th>550066</th>\n",
       "      <td>1006038</td>\n",
       "      <td>P00375436</td>\n",
       "      <td>F</td>\n",
       "      <td>55+</td>\n",
       "      <td>1</td>\n",
       "      <td>C</td>\n",
       "      <td>2</td>\n",
       "      <td>0</td>\n",
       "      <td>20</td>\n",
       "      <td>365</td>\n",
       "    </tr>\n",
       "    <tr>\n",
       "      <th>550067</th>\n",
       "      <td>1006039</td>\n",
       "      <td>P00371644</td>\n",
       "      <td>F</td>\n",
       "      <td>46-50</td>\n",
       "      <td>0</td>\n",
       "      <td>B</td>\n",
       "      <td>4+</td>\n",
       "      <td>1</td>\n",
       "      <td>20</td>\n",
       "      <td>490</td>\n",
       "    </tr>\n",
       "  </tbody>\n",
       "</table>\n",
       "<p>550068 rows × 10 columns</p>\n",
       "</div>"
      ],
      "text/plain": [
       "        User_ID Product_ID Gender    Age  Occupation City_Category  \\\n",
       "0       1000001  P00069042      F   0-17          10             A   \n",
       "1       1000001  P00248942      F   0-17          10             A   \n",
       "2       1000001  P00087842      F   0-17          10             A   \n",
       "3       1000001  P00085442      F   0-17          10             A   \n",
       "4       1000002  P00285442      M    55+          16             C   \n",
       "...         ...        ...    ...    ...         ...           ...   \n",
       "550063  1006033  P00372445      M  51-55          13             B   \n",
       "550064  1006035  P00375436      F  26-35           1             C   \n",
       "550065  1006036  P00375436      F  26-35          15             B   \n",
       "550066  1006038  P00375436      F    55+           1             C   \n",
       "550067  1006039  P00371644      F  46-50           0             B   \n",
       "\n",
       "       Stay_In_Current_City_Years  Marital_Status  Product_Category  Purchase  \n",
       "0                               2               0                 3      8370  \n",
       "1                               2               0                 1     15200  \n",
       "2                               2               0                12      1422  \n",
       "3                               2               0                12      1057  \n",
       "4                              4+               0                 8      7969  \n",
       "...                           ...             ...               ...       ...  \n",
       "550063                          1               1                20       368  \n",
       "550064                          3               0                20       371  \n",
       "550065                         4+               1                20       137  \n",
       "550066                          2               0                20       365  \n",
       "550067                         4+               1                20       490  \n",
       "\n",
       "[550068 rows x 10 columns]"
      ]
     },
     "execution_count": 3,
     "metadata": {},
     "output_type": "execute_result"
    }
   ],
   "source": [
    "data"
   ]
  },
  {
   "cell_type": "code",
   "execution_count": 4,
   "id": "5b023f3a",
   "metadata": {},
   "outputs": [
    {
     "data": {
      "text/plain": [
       "(550068, 10)"
      ]
     },
     "execution_count": 4,
     "metadata": {},
     "output_type": "execute_result"
    }
   ],
   "source": [
    "data.shape"
   ]
  },
  {
   "cell_type": "code",
   "execution_count": 5,
   "id": "dca6bccf",
   "metadata": {},
   "outputs": [
    {
     "name": "stdout",
     "output_type": "stream",
     "text": [
      "<class 'pandas.core.frame.DataFrame'>\n",
      "RangeIndex: 550068 entries, 0 to 550067\n",
      "Data columns (total 10 columns):\n",
      " #   Column                      Non-Null Count   Dtype \n",
      "---  ------                      --------------   ----- \n",
      " 0   User_ID                     550068 non-null  int64 \n",
      " 1   Product_ID                  550068 non-null  object\n",
      " 2   Gender                      550068 non-null  object\n",
      " 3   Age                         550068 non-null  object\n",
      " 4   Occupation                  550068 non-null  int64 \n",
      " 5   City_Category               550068 non-null  object\n",
      " 6   Stay_In_Current_City_Years  550068 non-null  object\n",
      " 7   Marital_Status              550068 non-null  int64 \n",
      " 8   Product_Category            550068 non-null  int64 \n",
      " 9   Purchase                    550068 non-null  int64 \n",
      "dtypes: int64(5), object(5)\n",
      "memory usage: 42.0+ MB\n"
     ]
    }
   ],
   "source": [
    "data.info()"
   ]
  },
  {
   "cell_type": "code",
   "execution_count": 6,
   "id": "7fef64ea",
   "metadata": {},
   "outputs": [],
   "source": [
    "cols = ['Occupation', 'Marital_Status', 'Product_Category']\n",
    "data[cols] = data[cols].astype('object')"
   ]
  },
  {
   "cell_type": "code",
   "execution_count": 7,
   "id": "469e9840",
   "metadata": {},
   "outputs": [
    {
     "data": {
      "text/html": [
       "<div>\n",
       "<style scoped>\n",
       "    .dataframe tbody tr th:only-of-type {\n",
       "        vertical-align: middle;\n",
       "    }\n",
       "\n",
       "    .dataframe tbody tr th {\n",
       "        vertical-align: top;\n",
       "    }\n",
       "\n",
       "    .dataframe thead th {\n",
       "        text-align: right;\n",
       "    }\n",
       "</style>\n",
       "<table border=\"1\" class=\"dataframe\">\n",
       "  <thead>\n",
       "    <tr style=\"text-align: right;\">\n",
       "      <th></th>\n",
       "      <th>User_ID</th>\n",
       "      <th>Product_ID</th>\n",
       "      <th>Gender</th>\n",
       "      <th>Age</th>\n",
       "      <th>Occupation</th>\n",
       "      <th>City_Category</th>\n",
       "      <th>Stay_In_Current_City_Years</th>\n",
       "      <th>Marital_Status</th>\n",
       "      <th>Product_Category</th>\n",
       "      <th>Purchase</th>\n",
       "    </tr>\n",
       "  </thead>\n",
       "  <tbody>\n",
       "    <tr>\n",
       "      <th>0</th>\n",
       "      <td>1000001</td>\n",
       "      <td>P00069042</td>\n",
       "      <td>F</td>\n",
       "      <td>0-17</td>\n",
       "      <td>10</td>\n",
       "      <td>A</td>\n",
       "      <td>2</td>\n",
       "      <td>0</td>\n",
       "      <td>3</td>\n",
       "      <td>8370</td>\n",
       "    </tr>\n",
       "    <tr>\n",
       "      <th>1</th>\n",
       "      <td>1000001</td>\n",
       "      <td>P00248942</td>\n",
       "      <td>F</td>\n",
       "      <td>0-17</td>\n",
       "      <td>10</td>\n",
       "      <td>A</td>\n",
       "      <td>2</td>\n",
       "      <td>0</td>\n",
       "      <td>1</td>\n",
       "      <td>15200</td>\n",
       "    </tr>\n",
       "    <tr>\n",
       "      <th>2</th>\n",
       "      <td>1000001</td>\n",
       "      <td>P00087842</td>\n",
       "      <td>F</td>\n",
       "      <td>0-17</td>\n",
       "      <td>10</td>\n",
       "      <td>A</td>\n",
       "      <td>2</td>\n",
       "      <td>0</td>\n",
       "      <td>12</td>\n",
       "      <td>1422</td>\n",
       "    </tr>\n",
       "    <tr>\n",
       "      <th>3</th>\n",
       "      <td>1000001</td>\n",
       "      <td>P00085442</td>\n",
       "      <td>F</td>\n",
       "      <td>0-17</td>\n",
       "      <td>10</td>\n",
       "      <td>A</td>\n",
       "      <td>2</td>\n",
       "      <td>0</td>\n",
       "      <td>12</td>\n",
       "      <td>1057</td>\n",
       "    </tr>\n",
       "    <tr>\n",
       "      <th>4</th>\n",
       "      <td>1000002</td>\n",
       "      <td>P00285442</td>\n",
       "      <td>M</td>\n",
       "      <td>55+</td>\n",
       "      <td>16</td>\n",
       "      <td>C</td>\n",
       "      <td>4+</td>\n",
       "      <td>0</td>\n",
       "      <td>8</td>\n",
       "      <td>7969</td>\n",
       "    </tr>\n",
       "    <tr>\n",
       "      <th>5</th>\n",
       "      <td>1000003</td>\n",
       "      <td>P00193542</td>\n",
       "      <td>M</td>\n",
       "      <td>26-35</td>\n",
       "      <td>15</td>\n",
       "      <td>A</td>\n",
       "      <td>3</td>\n",
       "      <td>0</td>\n",
       "      <td>1</td>\n",
       "      <td>15227</td>\n",
       "    </tr>\n",
       "    <tr>\n",
       "      <th>6</th>\n",
       "      <td>1000004</td>\n",
       "      <td>P00184942</td>\n",
       "      <td>M</td>\n",
       "      <td>46-50</td>\n",
       "      <td>7</td>\n",
       "      <td>B</td>\n",
       "      <td>2</td>\n",
       "      <td>1</td>\n",
       "      <td>1</td>\n",
       "      <td>19215</td>\n",
       "    </tr>\n",
       "    <tr>\n",
       "      <th>7</th>\n",
       "      <td>1000004</td>\n",
       "      <td>P00346142</td>\n",
       "      <td>M</td>\n",
       "      <td>46-50</td>\n",
       "      <td>7</td>\n",
       "      <td>B</td>\n",
       "      <td>2</td>\n",
       "      <td>1</td>\n",
       "      <td>1</td>\n",
       "      <td>15854</td>\n",
       "    </tr>\n",
       "    <tr>\n",
       "      <th>8</th>\n",
       "      <td>1000004</td>\n",
       "      <td>P0097242</td>\n",
       "      <td>M</td>\n",
       "      <td>46-50</td>\n",
       "      <td>7</td>\n",
       "      <td>B</td>\n",
       "      <td>2</td>\n",
       "      <td>1</td>\n",
       "      <td>1</td>\n",
       "      <td>15686</td>\n",
       "    </tr>\n",
       "    <tr>\n",
       "      <th>9</th>\n",
       "      <td>1000005</td>\n",
       "      <td>P00274942</td>\n",
       "      <td>M</td>\n",
       "      <td>26-35</td>\n",
       "      <td>20</td>\n",
       "      <td>A</td>\n",
       "      <td>1</td>\n",
       "      <td>1</td>\n",
       "      <td>8</td>\n",
       "      <td>7871</td>\n",
       "    </tr>\n",
       "    <tr>\n",
       "      <th>10</th>\n",
       "      <td>1000005</td>\n",
       "      <td>P00251242</td>\n",
       "      <td>M</td>\n",
       "      <td>26-35</td>\n",
       "      <td>20</td>\n",
       "      <td>A</td>\n",
       "      <td>1</td>\n",
       "      <td>1</td>\n",
       "      <td>5</td>\n",
       "      <td>5254</td>\n",
       "    </tr>\n",
       "    <tr>\n",
       "      <th>11</th>\n",
       "      <td>1000005</td>\n",
       "      <td>P00014542</td>\n",
       "      <td>M</td>\n",
       "      <td>26-35</td>\n",
       "      <td>20</td>\n",
       "      <td>A</td>\n",
       "      <td>1</td>\n",
       "      <td>1</td>\n",
       "      <td>8</td>\n",
       "      <td>3957</td>\n",
       "    </tr>\n",
       "    <tr>\n",
       "      <th>12</th>\n",
       "      <td>1000005</td>\n",
       "      <td>P00031342</td>\n",
       "      <td>M</td>\n",
       "      <td>26-35</td>\n",
       "      <td>20</td>\n",
       "      <td>A</td>\n",
       "      <td>1</td>\n",
       "      <td>1</td>\n",
       "      <td>8</td>\n",
       "      <td>6073</td>\n",
       "    </tr>\n",
       "    <tr>\n",
       "      <th>13</th>\n",
       "      <td>1000005</td>\n",
       "      <td>P00145042</td>\n",
       "      <td>M</td>\n",
       "      <td>26-35</td>\n",
       "      <td>20</td>\n",
       "      <td>A</td>\n",
       "      <td>1</td>\n",
       "      <td>1</td>\n",
       "      <td>1</td>\n",
       "      <td>15665</td>\n",
       "    </tr>\n",
       "    <tr>\n",
       "      <th>14</th>\n",
       "      <td>1000006</td>\n",
       "      <td>P00231342</td>\n",
       "      <td>F</td>\n",
       "      <td>51-55</td>\n",
       "      <td>9</td>\n",
       "      <td>A</td>\n",
       "      <td>1</td>\n",
       "      <td>0</td>\n",
       "      <td>5</td>\n",
       "      <td>5378</td>\n",
       "    </tr>\n",
       "    <tr>\n",
       "      <th>15</th>\n",
       "      <td>1000006</td>\n",
       "      <td>P00190242</td>\n",
       "      <td>F</td>\n",
       "      <td>51-55</td>\n",
       "      <td>9</td>\n",
       "      <td>A</td>\n",
       "      <td>1</td>\n",
       "      <td>0</td>\n",
       "      <td>4</td>\n",
       "      <td>2079</td>\n",
       "    </tr>\n",
       "    <tr>\n",
       "      <th>16</th>\n",
       "      <td>1000006</td>\n",
       "      <td>P0096642</td>\n",
       "      <td>F</td>\n",
       "      <td>51-55</td>\n",
       "      <td>9</td>\n",
       "      <td>A</td>\n",
       "      <td>1</td>\n",
       "      <td>0</td>\n",
       "      <td>2</td>\n",
       "      <td>13055</td>\n",
       "    </tr>\n",
       "    <tr>\n",
       "      <th>17</th>\n",
       "      <td>1000006</td>\n",
       "      <td>P00058442</td>\n",
       "      <td>F</td>\n",
       "      <td>51-55</td>\n",
       "      <td>9</td>\n",
       "      <td>A</td>\n",
       "      <td>1</td>\n",
       "      <td>0</td>\n",
       "      <td>5</td>\n",
       "      <td>8851</td>\n",
       "    </tr>\n",
       "    <tr>\n",
       "      <th>18</th>\n",
       "      <td>1000007</td>\n",
       "      <td>P00036842</td>\n",
       "      <td>M</td>\n",
       "      <td>36-45</td>\n",
       "      <td>1</td>\n",
       "      <td>B</td>\n",
       "      <td>1</td>\n",
       "      <td>1</td>\n",
       "      <td>1</td>\n",
       "      <td>11788</td>\n",
       "    </tr>\n",
       "    <tr>\n",
       "      <th>19</th>\n",
       "      <td>1000008</td>\n",
       "      <td>P00249542</td>\n",
       "      <td>M</td>\n",
       "      <td>26-35</td>\n",
       "      <td>12</td>\n",
       "      <td>C</td>\n",
       "      <td>4+</td>\n",
       "      <td>1</td>\n",
       "      <td>1</td>\n",
       "      <td>19614</td>\n",
       "    </tr>\n",
       "  </tbody>\n",
       "</table>\n",
       "</div>"
      ],
      "text/plain": [
       "    User_ID Product_ID Gender    Age Occupation City_Category  \\\n",
       "0   1000001  P00069042      F   0-17         10             A   \n",
       "1   1000001  P00248942      F   0-17         10             A   \n",
       "2   1000001  P00087842      F   0-17         10             A   \n",
       "3   1000001  P00085442      F   0-17         10             A   \n",
       "4   1000002  P00285442      M    55+         16             C   \n",
       "5   1000003  P00193542      M  26-35         15             A   \n",
       "6   1000004  P00184942      M  46-50          7             B   \n",
       "7   1000004  P00346142      M  46-50          7             B   \n",
       "8   1000004   P0097242      M  46-50          7             B   \n",
       "9   1000005  P00274942      M  26-35         20             A   \n",
       "10  1000005  P00251242      M  26-35         20             A   \n",
       "11  1000005  P00014542      M  26-35         20             A   \n",
       "12  1000005  P00031342      M  26-35         20             A   \n",
       "13  1000005  P00145042      M  26-35         20             A   \n",
       "14  1000006  P00231342      F  51-55          9             A   \n",
       "15  1000006  P00190242      F  51-55          9             A   \n",
       "16  1000006   P0096642      F  51-55          9             A   \n",
       "17  1000006  P00058442      F  51-55          9             A   \n",
       "18  1000007  P00036842      M  36-45          1             B   \n",
       "19  1000008  P00249542      M  26-35         12             C   \n",
       "\n",
       "   Stay_In_Current_City_Years Marital_Status Product_Category  Purchase  \n",
       "0                           2              0                3      8370  \n",
       "1                           2              0                1     15200  \n",
       "2                           2              0               12      1422  \n",
       "3                           2              0               12      1057  \n",
       "4                          4+              0                8      7969  \n",
       "5                           3              0                1     15227  \n",
       "6                           2              1                1     19215  \n",
       "7                           2              1                1     15854  \n",
       "8                           2              1                1     15686  \n",
       "9                           1              1                8      7871  \n",
       "10                          1              1                5      5254  \n",
       "11                          1              1                8      3957  \n",
       "12                          1              1                8      6073  \n",
       "13                          1              1                1     15665  \n",
       "14                          1              0                5      5378  \n",
       "15                          1              0                4      2079  \n",
       "16                          1              0                2     13055  \n",
       "17                          1              0                5      8851  \n",
       "18                          1              1                1     11788  \n",
       "19                         4+              1                1     19614  "
      ]
     },
     "execution_count": 7,
     "metadata": {},
     "output_type": "execute_result"
    }
   ],
   "source": [
    "data.head(20)"
   ]
  },
  {
   "cell_type": "markdown",
   "id": "6395b3f0",
   "metadata": {},
   "source": [
    "<font size=\"14\">**Outlier Detection**<font>\n"
   ]
  },
  {
   "cell_type": "code",
   "execution_count": 8,
   "id": "93eb6452",
   "metadata": {},
   "outputs": [
    {
     "data": {
      "text/html": [
       "<div>\n",
       "<style scoped>\n",
       "    .dataframe tbody tr th:only-of-type {\n",
       "        vertical-align: middle;\n",
       "    }\n",
       "\n",
       "    .dataframe tbody tr th {\n",
       "        vertical-align: top;\n",
       "    }\n",
       "\n",
       "    .dataframe thead th {\n",
       "        text-align: right;\n",
       "    }\n",
       "</style>\n",
       "<table border=\"1\" class=\"dataframe\">\n",
       "  <thead>\n",
       "    <tr style=\"text-align: right;\">\n",
       "      <th></th>\n",
       "      <th>User_ID</th>\n",
       "      <th>Purchase</th>\n",
       "    </tr>\n",
       "  </thead>\n",
       "  <tbody>\n",
       "    <tr>\n",
       "      <th>count</th>\n",
       "      <td>5.500680e+05</td>\n",
       "      <td>550068.000000</td>\n",
       "    </tr>\n",
       "    <tr>\n",
       "      <th>mean</th>\n",
       "      <td>1.003029e+06</td>\n",
       "      <td>9263.968713</td>\n",
       "    </tr>\n",
       "    <tr>\n",
       "      <th>std</th>\n",
       "      <td>1.727592e+03</td>\n",
       "      <td>5023.065394</td>\n",
       "    </tr>\n",
       "    <tr>\n",
       "      <th>min</th>\n",
       "      <td>1.000001e+06</td>\n",
       "      <td>12.000000</td>\n",
       "    </tr>\n",
       "    <tr>\n",
       "      <th>25%</th>\n",
       "      <td>1.001516e+06</td>\n",
       "      <td>5823.000000</td>\n",
       "    </tr>\n",
       "    <tr>\n",
       "      <th>50%</th>\n",
       "      <td>1.003077e+06</td>\n",
       "      <td>8047.000000</td>\n",
       "    </tr>\n",
       "    <tr>\n",
       "      <th>75%</th>\n",
       "      <td>1.004478e+06</td>\n",
       "      <td>12054.000000</td>\n",
       "    </tr>\n",
       "    <tr>\n",
       "      <th>max</th>\n",
       "      <td>1.006040e+06</td>\n",
       "      <td>23961.000000</td>\n",
       "    </tr>\n",
       "  </tbody>\n",
       "</table>\n",
       "</div>"
      ],
      "text/plain": [
       "            User_ID       Purchase\n",
       "count  5.500680e+05  550068.000000\n",
       "mean   1.003029e+06    9263.968713\n",
       "std    1.727592e+03    5023.065394\n",
       "min    1.000001e+06      12.000000\n",
       "25%    1.001516e+06    5823.000000\n",
       "50%    1.003077e+06    8047.000000\n",
       "75%    1.004478e+06   12054.000000\n",
       "max    1.006040e+06   23961.000000"
      ]
     },
     "execution_count": 8,
     "metadata": {},
     "output_type": "execute_result"
    }
   ],
   "source": [
    "data.describe()"
   ]
  },
  {
   "cell_type": "code",
   "execution_count": 9,
   "id": "fbd2b571",
   "metadata": {},
   "outputs": [
    {
     "data": {
      "text/plain": [
       "User_ID                       0\n",
       "Product_ID                    0\n",
       "Gender                        0\n",
       "Age                           0\n",
       "Occupation                    0\n",
       "City_Category                 0\n",
       "Stay_In_Current_City_Years    0\n",
       "Marital_Status                0\n",
       "Product_Category              0\n",
       "Purchase                      0\n",
       "dtype: int64"
      ]
     },
     "execution_count": 9,
     "metadata": {},
     "output_type": "execute_result"
    }
   ],
   "source": [
    "data.isnull().sum()"
   ]
  },
  {
   "cell_type": "code",
   "execution_count": 10,
   "id": "afee0365",
   "metadata": {},
   "outputs": [
    {
     "data": {
      "image/png": "[encoded data removed]",
      "text/plain": [
       "<Figure size 720x432 with 1 Axes>"
      ]
     },
     "metadata": {
      "needs_background": "light"
     },
     "output_type": "display_data"
    }
   ],
   "source": [
    "plt.figure(figsize=(10, 6))\n",
    "sns.histplot(data=data, x='Purchase', kde=True)\n",
    "plt.show()"
   ]
  },
  {
   "cell_type": "code",
   "execution_count": 11,
   "id": "e9c9f28d",
   "metadata": {
    "scrolled": true
   },
   "outputs": [
    {
     "data": {
      "image/png": "[encoded data removed]",
      "text/plain": [
       "<Figure size 432x288 with 1 Axes>"
      ]
     },
     "metadata": {
      "needs_background": "light"
     },
     "output_type": "display_data"
    }
   ],
   "source": [
    "sns.boxplot(data=data, x='Purchase', orient='h')\n",
    "plt.show()"
   ]
  },
  {
   "cell_type": "markdown",
   "id": "b102acb1",
   "metadata": {},
   "source": [
    "<font size=\"6\">**Observations**<font>\n",
    "    \n",
    "1. There are outliers in Purchase .\n",
    "    \n"
   ]
  },
  {
   "cell_type": "markdown",
   "id": "5aa09a80",
   "metadata": {},
   "source": [
    "<font size=\"14\">**Univariate Analysis**</font>"
   ]
  },
  {
   "cell_type": "code",
   "execution_count": 12,
   "id": "30d32e3c",
   "metadata": {},
   "outputs": [
    {
     "data": {
      "text/plain": [
       "1     193821\n",
       "2     101838\n",
       "3      95285\n",
       "4+     84726\n",
       "0      74398\n",
       "Name: Stay_In_Current_City_Years, dtype: int64"
      ]
     },
     "execution_count": 12,
     "metadata": {},
     "output_type": "execute_result"
    }
   ],
   "source": [
    "data[\"Stay_In_Current_City_Years\"].value_counts()"
   ]
  },
  {
   "cell_type": "code",
   "execution_count": 13,
   "id": "f31bfbb1",
   "metadata": {},
   "outputs": [
    {
     "data": {
      "text/plain": [
       "5     150933\n",
       "1     140378\n",
       "8     113925\n",
       "11     24287\n",
       "2      23864\n",
       "6      20466\n",
       "3      20213\n",
       "4      11753\n",
       "16      9828\n",
       "15      6290\n",
       "13      5549\n",
       "10      5125\n",
       "12      3947\n",
       "7       3721\n",
       "18      3125\n",
       "20      2550\n",
       "19      1603\n",
       "14      1523\n",
       "17       578\n",
       "9        410\n",
       "Name: Product_Category, dtype: int64"
      ]
     },
     "execution_count": 13,
     "metadata": {},
     "output_type": "execute_result"
    }
   ],
   "source": [
    "data[\"Product_Category\"].value_counts()"
   ]
  },
  {
   "cell_type": "code",
   "execution_count": 14,
   "id": "c7a66a4d",
   "metadata": {},
   "outputs": [
    {
     "data": {
      "text/plain": [
       "B    231173\n",
       "C    171175\n",
       "A    147720\n",
       "Name: City_Category, dtype: int64"
      ]
     },
     "execution_count": 14,
     "metadata": {},
     "output_type": "execute_result"
    }
   ],
   "source": [
    "data[\"City_Category\"].value_counts()"
   ]
  },
  {
   "cell_type": "code",
   "execution_count": 15,
   "id": "f3f72e1e",
   "metadata": {},
   "outputs": [
    {
     "data": {
      "text/plain": [
       "Gender\n",
       "F    1666\n",
       "M    4225\n",
       "Name: User_ID, dtype: int64"
      ]
     },
     "execution_count": 15,
     "metadata": {},
     "output_type": "execute_result"
    }
   ],
   "source": [
    "data.groupby(\"Gender\")[\"User_ID\"].nunique()"
   ]
  },
  {
   "cell_type": "code",
   "execution_count": 16,
   "id": "7b562ff4",
   "metadata": {},
   "outputs": [
    {
     "data": {
      "text/plain": [
       "26-35    219587\n",
       "36-45    110013\n",
       "18-25     99660\n",
       "46-50     45701\n",
       "51-55     38501\n",
       "55+       21504\n",
       "0-17      15102\n",
       "Name: Age, dtype: int64"
      ]
     },
     "execution_count": 16,
     "metadata": {},
     "output_type": "execute_result"
    }
   ],
   "source": [
    "data[\"Age\"].value_counts()"
   ]
  },
  {
   "cell_type": "code",
   "execution_count": 17,
   "id": "280a7897",
   "metadata": {},
   "outputs": [],
   "source": [
    "data[\"Marital_Status\"]=data[\"Marital_Status\"].replace([0,1],[\"Single\",\"Married\"])"
   ]
  },
  {
   "cell_type": "code",
   "execution_count": 18,
   "id": "a0b24abd",
   "metadata": {},
   "outputs": [
    {
     "data": {
      "text/plain": [
       "Single     324731\n",
       "Married    225337\n",
       "Name: Marital_Status, dtype: int64"
      ]
     },
     "execution_count": 18,
     "metadata": {},
     "output_type": "execute_result"
    }
   ],
   "source": [
    "data[\"Marital_Status\"].value_counts()"
   ]
  },
  {
   "cell_type": "code",
   "execution_count": 19,
   "id": "5251b62d",
   "metadata": {},
   "outputs": [
    {
     "data": {
      "image/png": "[encoded data removed]",
      "text/plain": [
       "<Figure size 1152x864 with 4 Axes>"
      ]
     },
     "metadata": {
      "needs_background": "light"
     },
     "output_type": "display_data"
    },
    {
     "data": {
      "image/png": "[encoded data removed]",
      "text/plain": [
       "<Figure size 720x576 with 1 Axes>"
      ]
     },
     "metadata": {
      "needs_background": "light"
     },
     "output_type": "display_data"
    }
   ],
   "source": [
    "categorical_cols = ['Gender', 'Occupation','City_Category','Marital_Status','Product_Category']\n",
    "\n",
    "fig, axs = plt.subplots(nrows=2, ncols=2, figsize=(16, 12))\n",
    "sns.countplot(data=data, x='Gender', ax=axs[0,0])\n",
    "sns.countplot(data=data, x='Occupation', ax=axs[0,1])\n",
    "sns.countplot(data=data, x='City_Category', ax=axs[1,0])\n",
    "sns.countplot(data=data, x='Marital_Status', ax=axs[1,1])\n",
    "plt.show()\n",
    "\n",
    "plt.figure(figsize=(10, 8))\n",
    "sns.countplot(data=data, x='Product_Category')\n",
    "plt.show()"
   ]
  },
  {
   "cell_type": "markdown",
   "id": "4c5fd307",
   "metadata": {},
   "source": [
    "<font size=\"14\">**Bi-Variate Analysis**<font>"
   ]
  },
  {
   "cell_type": "code",
   "execution_count": 20,
   "id": "ec67e39c",
   "metadata": {
    "scrolled": true
   },
   "outputs": [
    {
     "data": {
      "image/png": "[encoded data removed]",
      "text/plain": [
       "<Figure size 432x288 with 1 Axes>"
      ]
     },
     "metadata": {
      "needs_background": "light"
     },
     "output_type": "display_data"
    }
   ],
   "source": [
    "sns.boxplot(x=\"Gender\",y=\"Purchase\",data=data)\n",
    "plt.show()"
   ]
  },
  {
   "cell_type": "code",
   "execution_count": 21,
   "id": "41b919c6",
   "metadata": {},
   "outputs": [
    {
     "data": {
      "text/plain": [
       "<AxesSubplot:xlabel='Age', ylabel='Purchase'>"
      ]
     },
     "execution_count": 21,
     "metadata": {},
     "output_type": "execute_result"
    },
    {
     "data": {
      "image/png": "[encoded data removed]",
      "text/plain": [
       "<Figure size 432x288 with 1 Axes>"
      ]
     },
     "metadata": {
      "needs_background": "light"
     },
     "output_type": "display_data"
    }
   ],
   "source": [
    "sns.boxplot(x=\"Age\",y=\"Purchase\",data=data)"
   ]
  },
  {
   "cell_type": "code",
   "execution_count": 22,
   "id": "4a11dc89",
   "metadata": {},
   "outputs": [
    {
     "data": {
      "text/plain": [
       "<AxesSubplot:xlabel='Marital_Status', ylabel='Purchase'>"
      ]
     },
     "execution_count": 22,
     "metadata": {},
     "output_type": "execute_result"
    },
    {
     "data": {
      "image/png": "[encoded data removed]",
      "text/plain": [
       "<Figure size 432x288 with 1 Axes>"
      ]
     },
     "metadata": {
      "needs_background": "light"
     },
     "output_type": "display_data"
    }
   ],
   "source": [
    "sns.boxplot(x=\"Marital_Status\",y=\"Purchase\",data=data)"
   ]
  },
  {
   "cell_type": "code",
   "execution_count": 23,
   "id": "794f876c",
   "metadata": {},
   "outputs": [
    {
     "data": {
      "text/plain": [
       "<AxesSubplot:xlabel='Product_Category', ylabel='Purchase'>"
      ]
     },
     "execution_count": 23,
     "metadata": {},
     "output_type": "execute_result"
    },
    {
     "data": {
      "image/png": "[encoded data removed]",
      "text/plain": [
       "<Figure size 432x288 with 1 Axes>"
      ]
     },
     "metadata": {
      "needs_background": "light"
     },
     "output_type": "display_data"
    }
   ],
   "source": [
    "sns.boxplot(x=\"Product_Category\",y=\"Purchase\",data=data)"
   ]
  },
  {
   "cell_type": "markdown",
   "id": "6b39da7c",
   "metadata": {},
   "source": [
    "<font size=\" 10\">**Multivariate Analysis**<font size>"
   ]
  },
  {
   "cell_type": "code",
   "execution_count": 24,
   "id": "b4cdc765",
   "metadata": {},
   "outputs": [
    {
     "data": {
      "image/png": "[encoded data removed]",
      "text/plain": [
       "<Figure size 1440x432 with 4 Axes>"
      ]
     },
     "metadata": {
      "needs_background": "light"
     },
     "output_type": "display_data"
    }
   ],
   "source": [
    "fig, axs = plt.subplots(nrows=2, ncols=2, figsize=(20, 6))\n",
    "fig.subplots_adjust(top=1.5)\n",
    "sns.boxplot(data=data, y=\"Purchase\", x='Gender', hue='Age', ax=axs[0,0])\n",
    "sns.boxplot(data=data, y='Purchase', x='Gender', hue='City_Category', ax=axs[0,1])\n",
    "sns.boxplot(data=data, y='Purchase', x='Gender', hue='Marital_Status', ax=axs[1,0])\n",
    "sns.boxplot(data=data, y='Purchase', x='Gender', hue='Stay_In_Current_City_Years', ax=axs[1,1])\n",
    "axs[1,1].legend(loc='upper left')\n",
    "\n",
    "plt.show()"
   ]
  },
  {
   "cell_type": "code",
   "execution_count": 25,
   "id": "f35a1320",
   "metadata": {},
   "outputs": [],
   "source": [
    "s=300\n",
    "iterations=1000"
   ]
  },
  {
   "cell_type": "markdown",
   "id": "0f0a5aa3",
   "metadata": {},
   "source": [
    "<font size=\"14\">**Gender vs Purchase**<font >"
   ]
  },
  {
   "cell_type": "code",
   "execution_count": 26,
   "id": "b2a507d2",
   "metadata": {},
   "outputs": [],
   "source": [
    "male_sample_mean=[data[data[\"Gender\"]==\"M\"].sample(s)[\"Purchase\"].mean() for i in range(iterations)]"
   ]
  },
  {
   "cell_type": "code",
   "execution_count": 27,
   "id": "60c00ee8",
   "metadata": {},
   "outputs": [
    {
     "data": {
      "image/png": "[encoded data removed]",
      "text/plain": [
       "<Figure size 432x288 with 1 Axes>"
      ]
     },
     "metadata": {
      "needs_background": "light"
     },
     "output_type": "display_data"
    }
   ],
   "source": [
    "sns.histplot(x=male_sample_mean,kde=True)\n",
    "plt.show()"
   ]
  },
  {
   "cell_type": "code",
   "execution_count": 28,
   "id": "b3a6c5a0",
   "metadata": {},
   "outputs": [],
   "source": [
    "m_mean=np.mean(male_sample_mean)"
   ]
  },
  {
   "cell_type": "code",
   "execution_count": 29,
   "id": "3ca578d7",
   "metadata": {},
   "outputs": [],
   "source": [
    "female_sample_mean=[data[data[\"Gender\"]==\"F\"].sample(s)[\"Purchase\"].mean() for i in range(iterations)]"
   ]
  },
  {
   "cell_type": "code",
   "execution_count": 30,
   "id": "42cb2560",
   "metadata": {},
   "outputs": [
    {
     "data": {
      "image/png": "[encoded data removed]",
      "text/plain": [
       "<Figure size 432x288 with 1 Axes>"
      ]
     },
     "metadata": {
      "needs_background": "light"
     },
     "output_type": "display_data"
    }
   ],
   "source": [
    "sns.histplot(x=female_sample_mean,kde=True)\n",
    "plt.show()"
   ]
  },
  {
   "cell_type": "code",
   "execution_count": 31,
   "id": "956e4987",
   "metadata": {},
   "outputs": [],
   "source": [
    "f_mean=np.mean(female_sample_mean)"
   ]
  },
  {
   "cell_type": "markdown",
   "id": "9439a014",
   "metadata": {},
   "source": [
    "<font size=\"8\">**Confidence Interval**</font>"
   ]
  },
  {
   "cell_type": "markdown",
   "id": "fcf7a587",
   "metadata": {},
   "source": [
    "<font size=\"4\">**99% Confidence Interval**</font>"
   ]
  },
  {
   "cell_type": "code",
   "execution_count": 32,
   "id": "dfc2d0f0",
   "metadata": {},
   "outputs": [
    {
     "data": {
      "text/plain": [
       "(8717.631500467638, 10153.256346662705)"
      ]
     },
     "execution_count": 32,
     "metadata": {},
     "output_type": "execute_result"
    }
   ],
   "source": [
    "male_lower_interval_limit=m_mean-2.58*(np.std(male_sample_mean))\n",
    "male_upper_interval_limit=m_mean+2.58*(np.std(female_sample_mean))\n",
    "(male_lower_interval_limit,male_upper_interval_limit)"
   ]
  },
  {
   "cell_type": "code",
   "execution_count": 33,
   "id": "dd456c6d",
   "metadata": {},
   "outputs": [
    {
     "data": {
      "text/plain": [
       "(8054.327933337297, 9439.925173329371)"
      ]
     },
     "execution_count": 33,
     "metadata": {},
     "output_type": "execute_result"
    }
   ],
   "source": [
    "female_lower_interval_limit=f_mean-2.58*(np.std(female_sample_mean))\n",
    "female_upper_interval_limit=f_mean+2.58*(np.std(female_sample_mean))\n",
    "(female_lower_interval_limit,female_upper_interval_limit)\n"
   ]
  },
  {
   "cell_type": "code",
   "execution_count": 34,
   "id": "566db850",
   "metadata": {},
   "outputs": [
    {
     "data": {
      "image/png": "[encoded data removed]",
      "text/plain": [
       "<Figure size 432x288 with 1 Axes>"
      ]
     },
     "metadata": {
      "needs_background": "light"
     },
     "output_type": "display_data"
    }
   ],
   "source": [
    "plt.plot((male_lower_interval_limit, male_upper_interval_limit), [0, 0])\n",
    "\n",
    "plt.plot((female_lower_interval_limit, female_upper_interval_limit), [1, 1])\n",
    "for i in range(2):\n",
    "    plt.annotate([male_lower_interval_limit,male_upper_interval_limit],xy=[1,2])\n",
    "\n",
    "plt.yticks(range(2), [\"male\", \"female\"])\n",
    "\n",
    "plt.show()"
   ]
  },
  {
   "cell_type": "markdown",
   "id": "e43c4744",
   "metadata": {},
   "source": [
    "<font size=\"4\">**95% Confidence Interval**</font>"
   ]
  },
  {
   "cell_type": "code",
   "execution_count": 35,
   "id": "f8a77e21",
   "metadata": {},
   "outputs": [],
   "source": [
    "male_lower_interval_limit=m_mean-1.96*(np.std(male_sample_mean))"
   ]
  },
  {
   "cell_type": "code",
   "execution_count": 36,
   "id": "f5cf0338",
   "metadata": {},
   "outputs": [],
   "source": [
    "male_upper_interval_limit=m_mean+1.96*(np.std(female_sample_mean))"
   ]
  },
  {
   "cell_type": "code",
   "execution_count": 37,
   "id": "0c76cbc7",
   "metadata": {},
   "outputs": [
    {
     "name": "stdout",
     "output_type": "stream",
     "text": [
      "MALE PURCHASE CONFIDENCE INTERVAL FOR POPULATION MEAN:- 8896.14 ,9986.77 \n"
     ]
    }
   ],
   "source": [
    "print(\"MALE PURCHASE CONFIDENCE INTERVAL FOR POPULATION MEAN:- {:.2f} ,{:.2f} \".format(male_lower_interval_limit,male_upper_interval_limit))"
   ]
  },
  {
   "cell_type": "code",
   "execution_count": 38,
   "id": "0528fe67",
   "metadata": {},
   "outputs": [],
   "source": [
    "female_lower_interval_limit=f_mean-1.96*(np.std(female_sample_mean))"
   ]
  },
  {
   "cell_type": "code",
   "execution_count": 39,
   "id": "be765858",
   "metadata": {},
   "outputs": [],
   "source": [
    "female_upper_interval_limit=f_mean+1.96*(np.std(female_sample_mean))"
   ]
  },
  {
   "cell_type": "code",
   "execution_count": 40,
   "id": "aaa7db5c",
   "metadata": {},
   "outputs": [
    {
     "name": "stdout",
     "output_type": "stream",
     "text": [
      "FEMALE PURCHASE CONFIDENCE INTERVAL FOR POPULATION MEAN:- 8220.81 ,9273.44 \n"
     ]
    }
   ],
   "source": [
    "print(\"FEMALE PURCHASE CONFIDENCE INTERVAL FOR POPULATION MEAN:- {:.2f} ,{:.2f} \".format(female_lower_interval_limit,female_upper_interval_limit))"
   ]
  },
  {
   "cell_type": "code",
   "execution_count": 41,
   "id": "933e6f61",
   "metadata": {},
   "outputs": [
    {
     "data": {
      "image/png": "[encoded data removed]",
      "text/plain": [
       "<Figure size 432x288 with 1 Axes>"
      ]
     },
     "metadata": {
      "needs_background": "light"
     },
     "output_type": "display_data"
    }
   ],
   "source": [
    "plt.plot((male_lower_interval_limit, male_upper_interval_limit), [0, 0])\n",
    "\n",
    "plt.plot((female_lower_interval_limit, female_upper_interval_limit), [1, 1])\n",
    "\n",
    "plt.yticks(range(2), [\"male\", \"female\"])\n",
    "\n",
    "plt.show()"
   ]
  },
  {
   "cell_type": "markdown",
   "id": "028304be",
   "metadata": {},
   "source": [
    "\n",
    "<font size=\"4\">**90% Confidence Interval**</font>"
   ]
  },
  {
   "cell_type": "code",
   "execution_count": 42,
   "id": "485ae3f2",
   "metadata": {},
   "outputs": [
    {
     "name": "stdout",
     "output_type": "stream",
     "text": [
      "MALE PURCHASE CONFIDENCE INTERVAL FOR POPULATION MEAN:- 8988.27 ,9900.84 \n"
     ]
    }
   ],
   "source": [
    "\n",
    "male_lower_interval_limit=m_mean-1.64*(np.std(male_sample_mean))\n",
    "male_upper_interval_limit=m_mean+1.64*(np.std(female_sample_mean))\n",
    "print(\"MALE PURCHASE CONFIDENCE INTERVAL FOR POPULATION MEAN:- {:.2f} ,{:.2f} \".format(male_lower_interval_limit,male_upper_interval_limit))"
   ]
  },
  {
   "cell_type": "code",
   "execution_count": 43,
   "id": "f1adbb9b",
   "metadata": {},
   "outputs": [
    {
     "name": "stdout",
     "output_type": "stream",
     "text": [
      "FEMALE PURCHASE CONFIDENCE INTERVAL FOR POPULATION MEAN:- 8306.74 ,9187.51 \n"
     ]
    }
   ],
   "source": [
    "female_lower_interval_limit=f_mean-1.64*(np.std(female_sample_mean))\n",
    "female_upper_interval_limit=f_mean+1.64*(np.std(female_sample_mean))\n",
    "print(\"FEMALE PURCHASE CONFIDENCE INTERVAL FOR POPULATION MEAN:- {:.2f} ,{:.2f} \".format(female_lower_interval_limit,female_upper_interval_limit))"
   ]
  },
  {
   "cell_type": "code",
   "execution_count": 44,
   "id": "7612b1a0",
   "metadata": {},
   "outputs": [
    {
     "data": {
      "image/png": "[encoded data removed]",
      "text/plain": [
       "<Figure size 432x288 with 1 Axes>"
      ]
     },
     "metadata": {
      "needs_background": "light"
     },
     "output_type": "display_data"
    }
   ],
   "source": [
    "plt.plot((male_lower_interval_limit, male_upper_interval_limit), [0, 0])\n",
    "\n",
    "plt.plot((female_lower_interval_limit, female_upper_interval_limit), [1, 1])\n",
    "\n",
    "plt.yticks(range(2), [\"male\", \"female\"])\n",
    "\n",
    "plt.show()"
   ]
  },
  {
   "cell_type": "markdown",
   "id": "0917d43d",
   "metadata": {},
   "source": [
    "<font size=\"14\">**Marital_Status vs Purchase**<font >"
   ]
  },
  {
   "cell_type": "code",
   "execution_count": 45,
   "id": "fdb06fd9",
   "metadata": {},
   "outputs": [
    {
     "data": {
      "text/html": [
       "<div>\n",
       "<style scoped>\n",
       "    .dataframe tbody tr th:only-of-type {\n",
       "        vertical-align: middle;\n",
       "    }\n",
       "\n",
       "    .dataframe tbody tr th {\n",
       "        vertical-align: top;\n",
       "    }\n",
       "\n",
       "    .dataframe thead th {\n",
       "        text-align: right;\n",
       "    }\n",
       "</style>\n",
       "<table border=\"1\" class=\"dataframe\">\n",
       "  <thead>\n",
       "    <tr style=\"text-align: right;\">\n",
       "      <th></th>\n",
       "      <th>count</th>\n",
       "      <th>mean</th>\n",
       "      <th>std</th>\n",
       "      <th>min</th>\n",
       "      <th>25%</th>\n",
       "      <th>50%</th>\n",
       "      <th>75%</th>\n",
       "      <th>max</th>\n",
       "    </tr>\n",
       "    <tr>\n",
       "      <th>Marital_Status</th>\n",
       "      <th></th>\n",
       "      <th></th>\n",
       "      <th></th>\n",
       "      <th></th>\n",
       "      <th></th>\n",
       "      <th></th>\n",
       "      <th></th>\n",
       "      <th></th>\n",
       "    </tr>\n",
       "  </thead>\n",
       "  <tbody>\n",
       "    <tr>\n",
       "      <th>Married</th>\n",
       "      <td>225337.0</td>\n",
       "      <td>9261.174574</td>\n",
       "      <td>5016.897378</td>\n",
       "      <td>12.0</td>\n",
       "      <td>5843.0</td>\n",
       "      <td>8051.0</td>\n",
       "      <td>12042.0</td>\n",
       "      <td>23961.0</td>\n",
       "    </tr>\n",
       "    <tr>\n",
       "      <th>Single</th>\n",
       "      <td>324731.0</td>\n",
       "      <td>9265.907619</td>\n",
       "      <td>5027.347859</td>\n",
       "      <td>12.0</td>\n",
       "      <td>5605.0</td>\n",
       "      <td>8044.0</td>\n",
       "      <td>12061.0</td>\n",
       "      <td>23961.0</td>\n",
       "    </tr>\n",
       "  </tbody>\n",
       "</table>\n",
       "</div>"
      ],
      "text/plain": [
       "                   count         mean          std   min     25%     50%  \\\n",
       "Marital_Status                                                             \n",
       "Married         225337.0  9261.174574  5016.897378  12.0  5843.0  8051.0   \n",
       "Single          324731.0  9265.907619  5027.347859  12.0  5605.0  8044.0   \n",
       "\n",
       "                    75%      max  \n",
       "Marital_Status                    \n",
       "Married         12042.0  23961.0  \n",
       "Single          12061.0  23961.0  "
      ]
     },
     "execution_count": 45,
     "metadata": {},
     "output_type": "execute_result"
    }
   ],
   "source": [
    "data.groupby(\"Marital_Status\")[\"Purchase\"].describe()"
   ]
  },
  {
   "cell_type": "code",
   "execution_count": 46,
   "id": "60e3377c",
   "metadata": {},
   "outputs": [],
   "source": [
    " Married_sample_mean_dist=[data[data[\"Marital_Status\"]==\"Married\"].sample(s)[\"Purchase\"].mean() for i in range(iterations)]"
   ]
  },
  {
   "cell_type": "code",
   "execution_count": 47,
   "id": "b0f20c10",
   "metadata": {},
   "outputs": [],
   "source": [
    "Single_sample_mean_dist=[data[data[\"Marital_Status\"]==\"Single\"].sample(s)[\"Purchase\"].mean() for i in range(iterations)]"
   ]
  },
  {
   "cell_type": "code",
   "execution_count": 48,
   "id": "dfa597a7",
   "metadata": {},
   "outputs": [],
   "source": [
    "Married_mean_of_sample_mean=np.mean(Married_sample_mean_dist)"
   ]
  },
  {
   "cell_type": "code",
   "execution_count": 49,
   "id": "8db562bf",
   "metadata": {},
   "outputs": [],
   "source": [
    "Single_mean_of_sample_mean=np.mean(Single_sample_mean_dist)"
   ]
  },
  {
   "cell_type": "code",
   "execution_count": 50,
   "id": "8195d34c",
   "metadata": {},
   "outputs": [
    {
     "data": {
      "text/plain": [
       "<AxesSubplot:ylabel='Count'>"
      ]
     },
     "execution_count": 50,
     "metadata": {},
     "output_type": "execute_result"
    },
    {
     "data": {
      "image/png": "[encoded data removed]",
      "text/plain": [
       "<Figure size 432x288 with 1 Axes>"
      ]
     },
     "metadata": {
      "needs_background": "light"
     },
     "output_type": "display_data"
    }
   ],
   "source": [
    "sns.histplot(x=Married_sample_mean_dist,kde=True)"
   ]
  },
  {
   "cell_type": "code",
   "execution_count": 51,
   "id": "bdb1c4f4",
   "metadata": {},
   "outputs": [
    {
     "data": {
      "text/plain": [
       "<AxesSubplot:ylabel='Count'>"
      ]
     },
     "execution_count": 51,
     "metadata": {},
     "output_type": "execute_result"
    },
    {
     "data": {
      "image/png": "[encoded data removed]",
      "text/plain": [
       "<Figure size 432x288 with 1 Axes>"
      ]
     },
     "metadata": {
      "needs_background": "light"
     },
     "output_type": "display_data"
    }
   ],
   "source": [
    "sns.histplot(x=Single_sample_mean_dist,kde=True)"
   ]
  },
  {
   "cell_type": "markdown",
   "id": "5ecd0e9a",
   "metadata": {},
   "source": [
    "<font size=\"8\">**Confidence Interval**</font>"
   ]
  },
  {
   "cell_type": "markdown",
   "id": "6bebbf56",
   "metadata": {},
   "source": [
    "<font size=\"4\">**99% Confidence Interval**</font>"
   ]
  },
  {
   "cell_type": "code",
   "execution_count": 52,
   "id": "adf8ba43",
   "metadata": {},
   "outputs": [
    {
     "data": {
      "text/plain": [
       "(8521.121021197492, 10005.498118802507)"
      ]
     },
     "execution_count": 52,
     "metadata": {},
     "output_type": "execute_result"
    }
   ],
   "source": [
    "lower_interval_limit_Single=Single_mean_of_sample_mean-2.58*(np.std(Single_sample_mean_dist))\n",
    "upper_interval_limit_Single=Single_mean_of_sample_mean+2.58*(np.std(Single_sample_mean_dist))\n",
    "(lower_interval_limit_Single,upper_interval_limit_Single)"
   ]
  },
  {
   "cell_type": "code",
   "execution_count": 53,
   "id": "9d3022b9",
   "metadata": {},
   "outputs": [
    {
     "data": {
      "text/plain": [
       "(8522.718295658055, 9993.636511008615)"
      ]
     },
     "execution_count": 53,
     "metadata": {},
     "output_type": "execute_result"
    }
   ],
   "source": [
    "lower_interval_limit_Married=Married_mean_of_sample_mean-2.58*(np.std(Married_sample_mean_dist))\n",
    "upper_interval_limit_Married=Married_mean_of_sample_mean+2.58*(np.std(Married_sample_mean_dist))\n",
    "(lower_interval_limit_Married,upper_interval_limit_Married)"
   ]
  },
  {
   "cell_type": "code",
   "execution_count": 54,
   "id": "d30996f1",
   "metadata": {},
   "outputs": [
    {
     "data": {
      "image/png": "[encoded data removed]",
      "text/plain": [
       "<Figure size 432x288 with 1 Axes>"
      ]
     },
     "metadata": {
      "needs_background": "light"
     },
     "output_type": "display_data"
    }
   ],
   "source": [
    "plt.plot((lower_interval_limit_Single, upper_interval_limit_Single), [0, 0])\n",
    "\n",
    "plt.plot((lower_interval_limit_Married, upper_interval_limit_Married), [1, 1])\n",
    "\n",
    "plt.yticks(range(2), [\"Single\", \"Married\"])\n",
    "\n",
    "plt.show()"
   ]
  },
  {
   "cell_type": "markdown",
   "id": "cb3a6ee9",
   "metadata": {},
   "source": [
    "<font size=\"4\">**95% Confidence Interval**</font>"
   ]
  },
  {
   "cell_type": "code",
   "execution_count": 55,
   "id": "f96bb377",
   "metadata": {},
   "outputs": [
    {
     "data": {
      "text/plain": [
       "(8699.47640889422, 9827.14273110578)"
      ]
     },
     "execution_count": 55,
     "metadata": {},
     "output_type": "execute_result"
    }
   ],
   "source": [
    "lower_interval_limit_Single=Single_mean_of_sample_mean-1.96*(np.std(Single_sample_mean_dist))\n",
    "upper_interval_limit_Single=Single_mean_of_sample_mean+1.96*(np.std(Single_sample_mean_dist))\n",
    "(lower_interval_limit_Single,upper_interval_limit_Single)"
   ]
  },
  {
   "cell_type": "code",
   "execution_count": 56,
   "id": "14ae3385",
   "metadata": {},
   "outputs": [
    {
     "data": {
      "text/plain": [
       "(8699.456530835834, 9816.898275830836)"
      ]
     },
     "execution_count": 56,
     "metadata": {},
     "output_type": "execute_result"
    }
   ],
   "source": [
    "lower_interval_limit_Married=Married_mean_of_sample_mean-1.96*(np.std(Married_sample_mean_dist))\n",
    "upper_interval_limit_Married=Married_mean_of_sample_mean+1.96*(np.std(Married_sample_mean_dist))\n",
    "(lower_interval_limit_Married,upper_interval_limit_Married)"
   ]
  },
  {
   "cell_type": "code",
   "execution_count": 57,
   "id": "73dc5677",
   "metadata": {},
   "outputs": [
    {
     "data": {
      "image/png": "[encoded data removed]",
      "text/plain": [
       "<Figure size 432x288 with 1 Axes>"
      ]
     },
     "metadata": {
      "needs_background": "light"
     },
     "output_type": "display_data"
    }
   ],
   "source": [
    "plt.plot((lower_interval_limit_Single, upper_interval_limit_Single), [0, 0])\n",
    "\n",
    "plt.plot((lower_interval_limit_Married, upper_interval_limit_Married), [1, 1])\n",
    "\n",
    "plt.yticks(range(2), [\"Single\", \"Married\"])\n",
    "\n",
    "plt.show()"
   ]
  },
  {
   "cell_type": "markdown",
   "id": "3a700962",
   "metadata": {},
   "source": [
    "<font size=\"4\">**90% Confidence Interval**</font>"
   ]
  },
  {
   "cell_type": "code",
   "execution_count": 58,
   "id": "8665890b",
   "metadata": {},
   "outputs": [
    {
     "data": {
      "text/plain": [
       "(8790.092452643363, 9736.526687356636)"
      ]
     },
     "execution_count": 58,
     "metadata": {},
     "output_type": "execute_result"
    }
   ],
   "source": [
    "lower_interval_limit_Single=Single_mean_of_sample_mean-1.645*(np.std(Single_sample_mean_dist))\n",
    "upper_interval_limit_Single=Single_mean_of_sample_mean+1.645*(np.std(Single_sample_mean_dist))\n",
    "(lower_interval_limit_Single,upper_interval_limit_Single)"
   ]
  },
  {
   "cell_type": "code",
   "execution_count": 59,
   "id": "20285467",
   "metadata": {},
   "outputs": [
    {
     "data": {
      "text/plain": [
       "(8789.250956772934, 9727.103849893736)"
      ]
     },
     "execution_count": 59,
     "metadata": {},
     "output_type": "execute_result"
    }
   ],
   "source": [
    "lower_interval_limit_Married=Married_mean_of_sample_mean-1.645*(np.std(Married_sample_mean_dist))\n",
    "upper_interval_limit_Married=Married_mean_of_sample_mean+1.645*(np.std(Married_sample_mean_dist))\n",
    "(lower_interval_limit_Married,upper_interval_limit_Married)"
   ]
  },
  {
   "cell_type": "code",
   "execution_count": 60,
   "id": "68c98928",
   "metadata": {},
   "outputs": [
    {
     "data": {
      "image/png": "[encoded data removed]",
      "text/plain": [
       "<Figure size 432x288 with 1 Axes>"
      ]
     },
     "metadata": {
      "needs_background": "light"
     },
     "output_type": "display_data"
    }
   ],
   "source": [
    "plt.plot((lower_interval_limit_Single, upper_interval_limit_Single), [0, 0])\n",
    "\n",
    "plt.plot((lower_interval_limit_Married, upper_interval_limit_Married), [1, 1])\n",
    "\n",
    "plt.yticks(range(2), [\"Single\", \"Married\"])\n",
    "\n",
    "plt.show()"
   ]
  },
  {
   "cell_type": "markdown",
   "id": "04946784",
   "metadata": {},
   "source": [
    "<font size=\"14\">**Age vs Purchase**<font >"
   ]
  },
  {
   "cell_type": "code",
   "execution_count": 61,
   "id": "9030a220",
   "metadata": {},
   "outputs": [
    {
     "data": {
      "text/html": [
       "<div>\n",
       "<style scoped>\n",
       "    .dataframe tbody tr th:only-of-type {\n",
       "        vertical-align: middle;\n",
       "    }\n",
       "\n",
       "    .dataframe tbody tr th {\n",
       "        vertical-align: top;\n",
       "    }\n",
       "\n",
       "    .dataframe thead th {\n",
       "        text-align: right;\n",
       "    }\n",
       "</style>\n",
       "<table border=\"1\" class=\"dataframe\">\n",
       "  <thead>\n",
       "    <tr style=\"text-align: right;\">\n",
       "      <th></th>\n",
       "      <th>User_ID</th>\n",
       "      <th>Age</th>\n",
       "      <th>Purchase</th>\n",
       "    </tr>\n",
       "  </thead>\n",
       "  <tbody>\n",
       "    <tr>\n",
       "      <th>0</th>\n",
       "      <td>1000001</td>\n",
       "      <td>0-17</td>\n",
       "      <td>334093</td>\n",
       "    </tr>\n",
       "    <tr>\n",
       "      <th>1</th>\n",
       "      <td>1000002</td>\n",
       "      <td>55+</td>\n",
       "      <td>810472</td>\n",
       "    </tr>\n",
       "    <tr>\n",
       "      <th>2</th>\n",
       "      <td>1000003</td>\n",
       "      <td>26-35</td>\n",
       "      <td>341635</td>\n",
       "    </tr>\n",
       "    <tr>\n",
       "      <th>3</th>\n",
       "      <td>1000004</td>\n",
       "      <td>46-50</td>\n",
       "      <td>206468</td>\n",
       "    </tr>\n",
       "    <tr>\n",
       "      <th>4</th>\n",
       "      <td>1000005</td>\n",
       "      <td>26-35</td>\n",
       "      <td>821001</td>\n",
       "    </tr>\n",
       "    <tr>\n",
       "      <th>...</th>\n",
       "      <td>...</td>\n",
       "      <td>...</td>\n",
       "      <td>...</td>\n",
       "    </tr>\n",
       "    <tr>\n",
       "      <th>5886</th>\n",
       "      <td>1006036</td>\n",
       "      <td>26-35</td>\n",
       "      <td>4116058</td>\n",
       "    </tr>\n",
       "    <tr>\n",
       "      <th>5887</th>\n",
       "      <td>1006037</td>\n",
       "      <td>46-50</td>\n",
       "      <td>1119538</td>\n",
       "    </tr>\n",
       "    <tr>\n",
       "      <th>5888</th>\n",
       "      <td>1006038</td>\n",
       "      <td>55+</td>\n",
       "      <td>90034</td>\n",
       "    </tr>\n",
       "    <tr>\n",
       "      <th>5889</th>\n",
       "      <td>1006039</td>\n",
       "      <td>46-50</td>\n",
       "      <td>590319</td>\n",
       "    </tr>\n",
       "    <tr>\n",
       "      <th>5890</th>\n",
       "      <td>1006040</td>\n",
       "      <td>26-35</td>\n",
       "      <td>1653299</td>\n",
       "    </tr>\n",
       "  </tbody>\n",
       "</table>\n",
       "<p>5891 rows × 3 columns</p>\n",
       "</div>"
      ],
      "text/plain": [
       "      User_ID    Age  Purchase\n",
       "0     1000001   0-17    334093\n",
       "1     1000002    55+    810472\n",
       "2     1000003  26-35    341635\n",
       "3     1000004  46-50    206468\n",
       "4     1000005  26-35    821001\n",
       "...       ...    ...       ...\n",
       "5886  1006036  26-35   4116058\n",
       "5887  1006037  46-50   1119538\n",
       "5888  1006038    55+     90034\n",
       "5889  1006039  46-50    590319\n",
       "5890  1006040  26-35   1653299\n",
       "\n",
       "[5891 rows x 3 columns]"
      ]
     },
     "execution_count": 61,
     "metadata": {},
     "output_type": "execute_result"
    }
   ],
   "source": [
    "amt_df = data.groupby(['User_ID', 'Age'])[['Purchase']].sum()\n",
    "amt_df = amt_df.reset_index()\n",
    "amt_df\n",
    "\n",
    "\n"
   ]
  },
  {
   "cell_type": "code",
   "execution_count": 62,
   "id": "7ce31812",
   "metadata": {},
   "outputs": [],
   "source": [
    "data1=data.groupby([\"User_ID\",\"Age\"])[[\"Purchase\"]].mean()"
   ]
  },
  {
   "cell_type": "code",
   "execution_count": 63,
   "id": "e9e85444",
   "metadata": {},
   "outputs": [
    {
     "data": {
      "text/plain": [
       "26-35    2053\n",
       "36-45    1167\n",
       "18-25    1069\n",
       "46-50     531\n",
       "51-55     481\n",
       "55+       372\n",
       "0-17      218\n",
       "Name: Age, dtype: int64"
      ]
     },
     "execution_count": 63,
     "metadata": {},
     "output_type": "execute_result"
    }
   ],
   "source": [
    "amt_df[\"Age\"].value_counts()"
   ]
  },
  {
   "cell_type": "markdown",
   "id": "c5204db6",
   "metadata": {},
   "source": [
    "<font size=\"8\">**Confidence Interval**</font>"
   ]
  },
  {
   "cell_type": "markdown",
   "id": "fe79a153",
   "metadata": {},
   "source": [
    "<font size=\"4\">**99% Confidence Interval**</font>"
   ]
  },
  {
   "cell_type": "code",
   "execution_count": 64,
   "id": "86a542ff",
   "metadata": {},
   "outputs": [
    {
     "name": "stdout",
     "output_type": "stream",
     "text": [
      " age 26-35 : confidence interval of means=(840029.35, 1143479.05)\n",
      " age 36-45 : confidence interval of means=(729653.77, 1029517.28)\n",
      " age 18-25 : confidence interval of means=(718875.67, 985099.35)\n",
      " age 46-50 : confidence interval of means=(658266.43, 929862.40)\n",
      " age 51-55 : confidence interval of means=(645965.65, 877616.70)\n",
      " age 55+ : confidence interval of means=(444247.27, 637934.60)\n",
      " age 0-17 : confidence interval of means=(514793.50, 720126.01)\n"
     ]
    },
    {
     "data": {
      "image/png": "[encoded data removed]",
      "text/plain": [
       "<Figure size 432x288 with 1 Axes>"
      ]
     },
     "metadata": {
      "needs_background": "light"
     },
     "output_type": "display_data"
    }
   ],
   "source": [
    "w=['26-35', '36-45', '18-25', '46-50', '51-55', '55+', '0-17']\n",
    "lower_list=[]\n",
    "upper_list=[]\n",
    "for val in ['26-35', '36-45', '18-25', '46-50', '51-55', '55+', '0-17']:\n",
    "    sample_mean_distribution=[]\n",
    "    for i in range(iterations):\n",
    "    \n",
    "        new_df = amt_df[amt_df['Age']==val] \n",
    "        sample_mean = new_df.sample(s,replace=True)['Purchase'].mean()\n",
    "        sample_mean_distribution.append(sample_mean)    \n",
    "    a=np.mean(sample_mean_distribution)\n",
    "    lower_limit=a-2.58*np.std(sample_mean_distribution)\n",
    "    upper_limit=a+2.58*np.std(sample_mean_distribution)\n",
    "    \n",
    "    print(\" age {} : confidence interval of means=({:.2f}, {:.2f})\".format(val, lower_limit, upper_limit))\n",
    "    lower_list.append(lower_limit)\n",
    "    upper_list.append(upper_limit)\n",
    "\n",
    "data_dict = {}\n",
    "data_dict['category'] = ['26-35', '36-45', '18-25', '46-50', '51-55', '55+', '0-17']\n",
    "data_dict['lower'] = lower_list\n",
    "data_dict['upper'] = upper_list\n",
    "dataset = pd.DataFrame(data_dict)\n",
    "    \n",
    "for lower,upper,y in zip(dataset['lower'],dataset['upper'],range(len(dataset))):\n",
    "    plt.plot((lower,upper),(y,y),'ro-')\n",
    "plt.yticks(range(len(dataset)),list(dataset['category']))\n",
    "plt.show()\n",
    " \n"
   ]
  },
  {
   "cell_type": "markdown",
   "id": "989771e0",
   "metadata": {},
   "source": [
    "<font size=\"4\">**95% Confidence Interval**</font>"
   ]
  },
  {
   "cell_type": "code",
   "execution_count": 65,
   "id": "c12d22f5",
   "metadata": {},
   "outputs": [
    {
     "name": "stdout",
     "output_type": "stream",
     "text": [
      " age 26-35 : confidence interval of means=(876435.96, 1104823.87)\n",
      " age 36-45 : confidence interval of means=(767865.68, 989408.77)\n",
      " age 18-25 : confidence interval of means=(750902.95, 961924.01)\n",
      " age 46-50 : confidence interval of means=(689713.91, 900322.91)\n",
      " age 51-55 : confidence interval of means=(670381.51, 851293.15)\n",
      " age 55+ : confidence interval of means=(468466.40, 609064.67)\n",
      " age 0-17 : confidence interval of means=(541191.02, 699701.09)\n"
     ]
    },
    {
     "data": {
      "image/png": "[encoded data removed]",
      "text/plain": [
       "<Figure size 432x288 with 1 Axes>"
      ]
     },
     "metadata": {
      "needs_background": "light"
     },
     "output_type": "display_data"
    }
   ],
   "source": [
    "w=['26-35', '36-45', '18-25', '46-50', '51-55', '55+', '0-17']\n",
    "lower_list=[]\n",
    "upper_list=[]\n",
    "for val in ['26-35', '36-45', '18-25', '46-50', '51-55', '55+', '0-17']:\n",
    "    sample_mean_distribution=[]\n",
    "    for i in range(iterations):\n",
    "    \n",
    "        new_df = amt_df[amt_df['Age']==val] \n",
    "        sample_mean = new_df.sample(s,replace=True)['Purchase'].mean()\n",
    "        sample_mean_distribution.append(sample_mean)    \n",
    "    a=np.mean(sample_mean_distribution)\n",
    "    lower_limit=a-1.96*np.std(sample_mean_distribution)\n",
    "    upper_limit=a+1.96*np.std(sample_mean_distribution)\n",
    "    \n",
    "    print(\" age {} : confidence interval of means=({:.2f}, {:.2f})\".format(val, lower_limit, upper_limit))\n",
    "    lower_list.append(lower_limit)\n",
    "    upper_list.append(upper_limit)\n",
    "\n",
    "data_dict = {}\n",
    "data_dict['category'] = ['26-35', '36-45', '18-25', '46-50', '51-55', '55+', '0-17']\n",
    "data_dict['lower'] = lower_list\n",
    "data_dict['upper'] = upper_list\n",
    "dataset = pd.DataFrame(data_dict)\n",
    "    \n",
    "for lower,upper,y in zip(dataset['lower'],dataset['upper'],range(len(dataset))):\n",
    "    plt.plot((lower,upper),(y,y),'ro-')\n",
    "plt.yticks(range(len(dataset)),list(dataset['category']))\n",
    "plt.show()\n",
    " "
   ]
  },
  {
   "cell_type": "markdown",
   "id": "be341086",
   "metadata": {},
   "source": [
    "<font size=\"4\">**90% Confidence Interval**</font>"
   ]
  },
  {
   "cell_type": "code",
   "execution_count": 66,
   "id": "f5cd701e",
   "metadata": {},
   "outputs": [
    {
     "name": "stdout",
     "output_type": "stream",
     "text": [
      " age 26-35 : confidence interval of means=(889620.36, 1086352.31)\n",
      " age 36-45 : confidence interval of means=(785344.94, 973230.97)\n",
      " age 18-25 : confidence interval of means=(774807.07, 937327.28)\n",
      " age 46-50 : confidence interval of means=(705538.00, 880699.74)\n",
      " age 51-55 : confidence interval of means=(687659.60, 837664.20)\n",
      " age 55+ : confidence interval of means=(479256.51, 599222.16)\n",
      " age 0-17 : confidence interval of means=(551601.37, 681757.33)\n"
     ]
    },
    {
     "data": {
      "image/png": "[encoded data removed]",
      "text/plain": [
       "<Figure size 432x288 with 1 Axes>"
      ]
     },
     "metadata": {
      "needs_background": "light"
     },
     "output_type": "display_data"
    }
   ],
   "source": [
    "w=['26-35', '36-45', '18-25', '46-50', '51-55', '55+', '0-17']\n",
    "lower_list=[]\n",
    "upper_list=[]\n",
    "for val in ['26-35', '36-45', '18-25', '46-50', '51-55', '55+', '0-17']:\n",
    "    sample_mean_distribution=[]\n",
    "    for i in range(iterations):\n",
    "    \n",
    "        new_df = amt_df[amt_df['Age']==val] \n",
    "        sample_mean = new_df.sample(s,replace=True)['Purchase'].mean()\n",
    "        sample_mean_distribution.append(sample_mean)    \n",
    "    a=np.mean(sample_mean_distribution)\n",
    "    lower_limit=a-1.645*np.std(sample_mean_distribution)\n",
    "    upper_limit=a+1.645*np.std(sample_mean_distribution)\n",
    "    \n",
    "    print(\" age {} : confidence interval of means=({:.2f}, {:.2f})\".format(val, lower_limit, upper_limit))\n",
    "    lower_list.append(lower_limit)\n",
    "    upper_list.append(upper_limit)\n",
    "\n",
    "data_dict = {}\n",
    "data_dict['category'] = ['26-35', '36-45', '18-25', '46-50', '51-55', '55+', '0-17']\n",
    "data_dict['lower'] = lower_list\n",
    "data_dict['upper'] = upper_list\n",
    "dataset = pd.DataFrame(data_dict)\n",
    "    \n",
    "for lower,upper,y in zip(dataset['lower'],dataset['upper'],range(len(dataset))):\n",
    "    plt.plot((lower,upper),(y,y),'ro-')\n",
    "plt.yticks(range(len(dataset)),list(dataset['category']))\n",
    "plt.show()\n",
    " "
   ]
  },
  {
   "cell_type": "markdown",
   "id": "bd5f2999",
   "metadata": {},
   "source": [
    "<font size=\"14\">**Insights**<font>"
   ]
  },
  {
   "cell_type": "markdown",
   "id": "f5b32f22",
   "metadata": {},
   "source": [
    "<font size=\"6\">**#Gender Related**<font>"
   ]
  },
  {
   "cell_type": "markdown",
   "id": "745c386e",
   "metadata": {},
   "source": [
    "1. Male customers spend more than female customers and we can see :-\n",
    "    * for 99% interval :- MALE = (8660.93, 10150.21),Female = (8033.46, 9463.13)\n",
    "    * for 95% interval :- MALE = (8847.04 ,9978.44 ),Female = (8205.25 ,9291.36)\n",
    "    * for 90% interval :- MALE = (8943.10 ,9889.78 ),Female = (8293.91 ,9202.70)\n",
    "  *  the difference is not very significant \n"
   ]
  },
  {
   "cell_type": "markdown",
   "id": "319e28f3",
   "metadata": {},
   "source": [
    "<font size=\"6\">**#Age Related**<font>"
   ]
  },
  {
   "cell_type": "markdown",
   "id": "4b7967e8",
   "metadata": {},
   "source": [
    "1. There is no significant difference in purchasing patterns among differnt age groups .\n",
    "2. Male customers in all age groups tend to spend mpre then their female counterparts.\n",
    "3. It is clearly visible that age groups in the 18-50 spend more on average .\n",
    "   "
   ]
  },
  {
   "cell_type": "markdown",
   "id": "f1fb5f2b",
   "metadata": {},
   "source": [
    "<font size=\"6\">**#Marital_Status Related**<font>"
   ]
  },
  {
   "cell_type": "markdown",
   "id": "0fb7bb1c",
   "metadata": {},
   "source": [
    "1. There is no significant difference among Married and Single Customers , as seen the confidence intervals completely overlap:-\n",
    "    * for 99% interval:- Single (8515.41, 10000.98), Married (8501.39, 10015.50)\n",
    "    * for 95% interval:- Single (8693.91, 9822.48), Married (8683.32, 9833.57)\n",
    "    * for 90% interval:- Single (8784.60, 9731.79), Married (8775.75, 9741.14)"
   ]
  },
  {
   "cell_type": "markdown",
   "id": "de9ed479",
   "metadata": {},
   "source": [
    "<font size=\"6\">**#Product_Category_Related**<font>"
   ]
  },
  {
   "cell_type": "markdown",
   "id": "7fa73652",
   "metadata": {},
   "source": [
    "1. Products 1,5,8,11 are the products highly in demand and generate major revenue for the company "
   ]
  },
  {
   "cell_type": "markdown",
   "id": "2854a70b",
   "metadata": {},
   "source": [
    "<font size=\"6\">**#City_Related**<font>"
   ]
  },
  {
   "cell_type": "markdown",
   "id": "9c00e622",
   "metadata": {},
   "source": [
    "1. More Customers are in city B as compared to other two cities .\n",
    "2. Customers in City C tend to spend more as compared to other cities."
   ]
  },
  {
   "cell_type": "markdown",
   "id": "4c5406f2",
   "metadata": {},
   "source": [
    "<font size=\"14\">**Recommendations**<font>"
   ]
  },
  {
   "cell_type": "markdown",
   "id": "670e7ea5",
   "metadata": {},
   "source": [
    "1. As Products 1,5,8,11 genrate more revenue for the company, more discounts , schemes, offers should be made .\n",
    "2. Other products should also be made attarctive by quantity discounts, buy get one offers .\n",
    "3. As we have more customers in B City, and as male customers are more in number over there, we should target the males with the \n",
    "    products and schemes to drive sales over there .\n",
    "4. High or more Price products should be launched and made accessible in City C .\n",
    "5. Age groups in the the category 18-50 are promising fot the company\n",
    "6. The company should launch new products specifically for the age group 26-35 , as they are the more aggressive spenders .\n",
    "7. The Single customers > Married Customers so we need to bring them in the loop and icrease their contribution to sales .\n",
    "8. Customers with Occupation as [0,1,4,7,17] need to be targeted products:- tailormade or necessary or more suitable to their professions.\n"
   ]
  }
 ],
 "metadata": {
  "kernelspec": {
   "display_name": "Python 3 (ipykernel)",
   "language": "python",
   "name": "python3"
  },
  "language_info": {
   "codemirror_mode": {
    "name": "ipython",
    "version": 3
   },
   "file_extension": ".py",
   "mimetype": "text/x-python",
   "name": "python",
   "nbconvert_exporter": "python",
   "pygments_lexer": "ipython3",
   "version": "3.9.12"
  }
 },
 "nbformat": 4,
 "nbformat_minor": 5
}
